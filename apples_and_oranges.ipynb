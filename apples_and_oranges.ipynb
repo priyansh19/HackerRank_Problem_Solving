{
 "cells": [
  {
   "cell_type": "code",
   "execution_count": 3,
   "metadata": {},
   "outputs": [],
   "source": [
    "#!/bin/python3\n",
    "\n",
    "import math\n",
    "import os\n",
    "import random\n",
    "import re\n",
    "import sys\n",
    "\n",
    "# Complete the countApplesAndOranges function below.\n",
    "def countApplesAndOranges(s, t, a, b, apples, oranges):\n",
    "    count = 0\n",
    "    count1 = 0\n",
    "    a = [x+a for x in apples]\n",
    "    for i in a:\n",
    "        if i>=s and i<=t:\n",
    "             count += 1   \n",
    "    o = [y+b for y in oranges]\n",
    "    for i in o:\n",
    "        if i>=s and i<=t:\n",
    "             count1 += 1\n",
    "    print(count)\n",
    "    print(count1)\n",
    "    \n",
    "if __name__ == '__main__':\n",
    "    st = input().split()\n",
    "\n",
    "    s = int(st[0])\n",
    "\n",
    "    t = int(st[1])\n",
    "\n",
    "    ab = input().split()\n",
    "\n",
    "    a = int(ab[0])\n",
    "\n",
    "    b = int(ab[1])\n",
    "\n",
    "    mn = input().split()\n",
    "\n",
    "    m = int(mn[0])\n",
    "\n",
    "    n = int(mn[1])\n",
    "\n",
    "    apples = list(map(int, input().rstrip().split()))\n",
    "\n",
    "    oranges = list(map(int, input().rstrip().split()))\n",
    "\n",
    "    countApplesAndOranges(s, t, a, b, apples, oranges)\n"
   ]
  },
  {
   "cell_type": "code",
   "execution_count": null,
   "metadata": {},
   "outputs": [],
   "source": []
  },
  {
   "cell_type": "code",
   "execution_count": null,
   "metadata": {},
   "outputs": [],
   "source": []
  }
 ],
 "metadata": {
  "kernelspec": {
   "display_name": "Python 3",
   "language": "python",
   "name": "python3"
  },
  "language_info": {
   "codemirror_mode": {
    "name": "ipython",
    "version": 3
   },
   "file_extension": ".py",
   "mimetype": "text/x-python",
   "name": "python",
   "nbconvert_exporter": "python",
   "pygments_lexer": "ipython3",
   "version": "3.7.3"
  }
 },
 "nbformat": 4,
 "nbformat_minor": 2
}
