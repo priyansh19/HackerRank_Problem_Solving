{
 "cells": [
  {
   "cell_type": "code",
   "execution_count": 7,
   "metadata": {},
   "outputs": [
    {
     "name": "stdout",
     "output_type": "stream",
     "text": [
      "0 2 5 3\n",
      "NO\n"
     ]
    }
   ],
   "source": [
    "def fun(x1,v1,x2,v2):\n",
    "    if v1 == v2 and x1 == x2:\n",
    "        return 'YES'\n",
    "    elif v1 == v2:\n",
    "        return 'NO'     \n",
    "    x = (x2-x1)/(v1-v2)    \n",
    "    if (x == round(x) and x > 0):\n",
    "        return 'YES'\n",
    "    else:\n",
    "        return 'NO'\n",
    "x1, v1, x2, v2 = input().split(' ')\n",
    "x1, v1, x2, v2 = [int(x1),int(v1),int(x2),int(v2)]\n",
    "result = fun(x1,v1,x2,v2)\n",
    "print(result)"
   ]
  },
  {
   "cell_type": "code",
   "execution_count": null,
   "metadata": {},
   "outputs": [],
   "source": []
  }
 ],
 "metadata": {
  "kernelspec": {
   "display_name": "Python 3",
   "language": "python",
   "name": "python3"
  },
  "language_info": {
   "codemirror_mode": {
    "name": "ipython",
    "version": 3
   },
   "file_extension": ".py",
   "mimetype": "text/x-python",
   "name": "python",
   "nbconvert_exporter": "python",
   "pygments_lexer": "ipython3",
   "version": "3.7.3"
  }
 },
 "nbformat": 4,
 "nbformat_minor": 2
}
